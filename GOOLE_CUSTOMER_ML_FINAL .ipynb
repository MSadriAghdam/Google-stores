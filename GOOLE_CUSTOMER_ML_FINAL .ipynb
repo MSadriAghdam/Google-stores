{
  "nbformat": 4,
  "nbformat_minor": 0,
  "metadata": {
    "colab": {
      "name": "GOOLE_CUSTOMER_ML_FINAL.ipynb",
      "provenance": [],
      "collapsed_sections": []
    },
    "kernelspec": {
      "name": "python3",
      "display_name": "Python 3"
    }
  },
  "cells": [
    {
      "cell_type": "code",
      "metadata": {
        "id": "GcJ69aCvSefF",
        "colab_type": "code",
        "colab": {
          "base_uri": "https://localhost:8080/",
          "height": 71
        },
        "outputId": "02020572-9b6a-40a9-9cf7-a7a7c9baf605"
      },
      "source": [
        "import pandas as pd\n",
        "import seaborn as sns\n",
        "import matplotlib.pyplot as plt\n",
        "import numpy as np"
      ],
      "execution_count": 1,
      "outputs": [
        {
          "output_type": "stream",
          "text": [
            "/usr/local/lib/python3.6/dist-packages/statsmodels/tools/_testing.py:19: FutureWarning: pandas.util.testing is deprecated. Use the functions in the public API at pandas.testing instead.\n",
            "  import pandas.util.testing as tm\n"
          ],
          "name": "stderr"
        }
      ]
    },
    {
      "cell_type": "code",
      "metadata": {
        "id": "UtHMNS2HwOSn",
        "colab_type": "code",
        "colab": {
          "base_uri": "https://localhost:8080/",
          "height": 34
        },
        "outputId": "5cdba430-39f0-4ee9-fb3b-20264354697f"
      },
      "source": [
        "from google.colab import drive\n",
        "drive.mount('/content/gdrive')"
      ],
      "execution_count": 2,
      "outputs": [
        {
          "output_type": "stream",
          "text": [
            "Mounted at /content/gdrive\n"
          ],
          "name": "stdout"
        }
      ]
    },
    {
      "cell_type": "code",
      "metadata": {
        "id": "BU0wMO5eqgH_",
        "colab_type": "code",
        "colab": {
          "base_uri": "https://localhost:8080/",
          "height": 187
        },
        "outputId": "78cbfe43-3f4c-42ca-fe32-0dcdbf50e86f"
      },
      "source": [
        "! ls gdrive/My\\ Drive/ReDI"
      ],
      "execution_count": 3,
      "outputs": [
        {
          "output_type": "stream",
          "text": [
            "'07-Joining DataFrames – Merge and Concat.ipynb'\n",
            " 08-plotting-First_introduction_to_analytical_thinking.ipynb\n",
            "'Class material'\n",
            "'Copy of 07-Joining DataFrames – Merge and Concat.ipynb'\n",
            "'Copy of 08-plotting-First_introduction_to_analytical_thinking.ipynb'\n",
            "'Copy of Class-02_python_data_structures.ipynb'\n",
            "'Copy of IntroToDataScienceSimplified.ipynb'\n",
            "'Copy of Lecture 3 - Intro to Pandas (REFACTOR).ipynb'\n",
            "'Copy of Stats & Aggregation.ipynb'\n",
            "'Merge – Inner, Left, Right, Outer.ipynb'\n"
          ],
          "name": "stdout"
        }
      ]
    },
    {
      "cell_type": "code",
      "metadata": {
        "id": "D_E2v_pTwrb2",
        "colab_type": "code",
        "colab": {}
      },
      "source": [
        "root_path = '/content/gdrive/My Drive/final_project_redi'"
      ],
      "execution_count": 4,
      "outputs": []
    },
    {
      "cell_type": "code",
      "metadata": {
        "id": "LqWrMT2Zw6vq",
        "colab_type": "code",
        "colab": {
          "base_uri": "https://localhost:8080/",
          "height": 34
        },
        "outputId": "42e66404-7bdd-430b-ca77-fd6327be616b"
      },
      "source": [
        "cd '/content/gdrive/My Drive/final_project_redi'"
      ],
      "execution_count": 5,
      "outputs": [
        {
          "output_type": "stream",
          "text": [
            "/content/gdrive/.shortcut-targets-by-id/1Wm0NGPCFy3kBB3r_4H0nwnB1SKJGTXoo/final_project_redi\n"
          ],
          "name": "stdout"
        }
      ]
    },
    {
      "cell_type": "code",
      "metadata": {
        "id": "i8KPUmtMyNW8",
        "colab_type": "code",
        "colab": {
          "base_uri": "https://localhost:8080/",
          "height": 187
        },
        "outputId": "9f488545-2a87-4db3-9b60-2e17090779c0"
      },
      "source": [
        "#! unzip train.csv.zip - wite A to unzip all \n",
        "! unzip preprocessed_ga_revenue_data.zip"
      ],
      "execution_count": 6,
      "outputs": [
        {
          "output_type": "stream",
          "text": [
            "Archive:  preprocessed_ga_revenue_data.zip\n",
            "replace preprocessed_ga_revenue_data/train_flat_no_hits.pkl? [y]es, [n]o, [A]ll, [N]one, [r]ename: A\n",
            "  inflating: preprocessed_ga_revenue_data/train_flat_no_hits.pkl  \n",
            "  inflating: __MACOSX/preprocessed_ga_revenue_data/._train_flat_no_hits.pkl  \n",
            "  inflating: preprocessed_ga_revenue_data/test_flat_no_hits.pkl  \n",
            "  inflating: __MACOSX/preprocessed_ga_revenue_data/._test_flat_no_hits.pkl  \n",
            "  inflating: preprocessed_ga_revenue_data/train_hits_flat.pkl  \n",
            "  inflating: __MACOSX/preprocessed_ga_revenue_data/._train_hits_flat.pkl  \n",
            "  inflating: preprocessed_ga_revenue_data/test_hits_flat.pkl  \n",
            "  inflating: __MACOSX/preprocessed_ga_revenue_data/._test_hits_flat.pkl  \n"
          ],
          "name": "stdout"
        }
      ]
    },
    {
      "cell_type": "code",
      "metadata": {
        "id": "kkw668Y7yNs7",
        "colab_type": "code",
        "colab": {
          "base_uri": "https://localhost:8080/",
          "height": 34
        },
        "outputId": "7943378c-6d49-4177-8d7a-b7d2881e73bb"
      },
      "source": [
        "cd preprocessed_ga_revenue_data"
      ],
      "execution_count": 7,
      "outputs": [
        {
          "output_type": "stream",
          "text": [
            "/content/gdrive/.shortcut-targets-by-id/1Wm0NGPCFy3kBB3r_4H0nwnB1SKJGTXoo/final_project_redi/preprocessed_ga_revenue_data\n"
          ],
          "name": "stdout"
        }
      ]
    },
    {
      "cell_type": "code",
      "metadata": {
        "id": "YaE-lyRyyNpv",
        "colab_type": "code",
        "colab": {
          "base_uri": "https://localhost:8080/",
          "height": 102
        },
        "outputId": "495cfb94-8736-4dcb-9fc2-178589b3ee83"
      },
      "source": [
        "ls"
      ],
      "execution_count": 8,
      "outputs": [
        {
          "output_type": "stream",
          "text": [
            "'C:\\\\Desktop\\df_train_main.csv'   test_flat_no_hits.pkl\n",
            " df1.csv                          test_hits_flat.pkl\n",
            " df_train.csv                     train_flat_no_hits.pkl\n",
            " df_train_main.csv                train_hits_flat.pkl\n",
            "'E:\\\\df_train_main.csv'\n"
          ],
          "name": "stdout"
        }
      ]
    },
    {
      "cell_type": "code",
      "metadata": {
        "id": "nA9qjTPJyNmQ",
        "colab_type": "code",
        "colab": {}
      },
      "source": [
        "df_train = pd.read_pickle('train_flat_no_hits.pkl')"
      ],
      "execution_count": 9,
      "outputs": []
    },
    {
      "cell_type": "code",
      "metadata": {
        "id": "Kx6vD6UCl89T",
        "colab_type": "code",
        "colab": {
          "base_uri": "https://localhost:8080/",
          "height": 34
        },
        "outputId": "bf4a195a-af2e-458a-b4f7-21b350605682"
      },
      "source": [
        "df_train.shape"
      ],
      "execution_count": 10,
      "outputs": [
        {
          "output_type": "execute_result",
          "data": {
            "text/plain": [
              "(1708337, 60)"
            ]
          },
          "metadata": {
            "tags": []
          },
          "execution_count": 10
        }
      ]
    },
    {
      "cell_type": "code",
      "metadata": {
        "id": "jjYnAWu_Qfzo",
        "colab_type": "code",
        "colab": {}
      },
      "source": [
        "# To replace _ with . betweeen names in each column\n",
        "df_train.columns = df_train.columns.str.replace(\".\", \"_\")"
      ],
      "execution_count": 11,
      "outputs": []
    },
    {
      "cell_type": "markdown",
      "metadata": {
        "id": "Z1HeW0g9c7xD",
        "colab_type": "text"
      },
      "source": [
        "# start"
      ]
    },
    {
      "cell_type": "code",
      "metadata": {
        "id": "3kP-uCCzgbJJ",
        "colab_type": "code",
        "colab": {
          "base_uri": "https://localhost:8080/",
          "height": 51
        },
        "outputId": "47856bfa-48cc-4cd5-a9ec-14b85fafd048"
      },
      "source": [
        "#Removing columns those are non usable. 60 columns decresed to 18 \n",
        "df_train_new = df_train.drop([\"trafficSource_keyword\",\"totals_bounces\",\"totals_newVisits\",\"totals_sessionQualityDim\",\\\n",
        "                          \"trafficSource_referralPath\",\"device_language\",\"socialEngagementType\",\"device_browserVersion\",\\\n",
        "                          \"device_mobileInputSelector\", \"device_mobileDeviceInfo\", \"device_mobileDeviceMarketingName\",\"device_flashVersion\",\\\n",
        "                          \"device_screenColors\",\"device_screenResolution\",\"geoNetwork_cityId\", \"geoNetwork_latitude\",\"geoNetwork_longitude\",\\\n",
        "                          \"geoNetwork_networkLocation\",\"trafficSource_adwordsClickInfo_criteriaParameters\",\"geoNetwork_continent\",\\\n",
        "                          \"geoNetwork_subContinent\", \"device_browserSize\",\"device_operatingSystemVersion\", \"device_mobileDeviceBranding\",\\\n",
        "                          \"device_mobileDeviceModel\",\"trafficSource_isTrueDirect\",\"trafficSource_adContent\",\\\n",
        "                          \"trafficSource_adwordsClickInfo_page\",\"device_mobileDeviceModel\",\"trafficSource_adwordsClickInfo_slot\",\\\n",
        "                          \"trafficSource_adwordsClickInfo_gclId\",\"geoNetwork_country\",\"trafficSource_adwordsClickInfo_adNetworkType\",\\\n",
        "                          \"trafficSource_adwordsClickInfo_isVideoAd\",\"trafficSource_campaignCode\", \"date\",\"customDimension_index\",\\\n",
        "                          \"customDimension_value\",\"geoNetwork_city\",\"geoNetwork_metro\",\"geoNetwork_networkDomain\",\"trafficSource_campaign\",\\\n",
        "                          \"trafficSource_medium\"], axis=1)\n",
        "print(df_train.shape)\n",
        "print(df_train_new.shape)\n"
      ],
      "execution_count": 12,
      "outputs": [
        {
          "output_type": "stream",
          "text": [
            "(1708337, 60)\n",
            "(1708337, 18)\n"
          ],
          "name": "stdout"
        }
      ]
    },
    {
      "cell_type": "markdown",
      "metadata": {
        "id": "cb6FpEixiYQw",
        "colab_type": "text"
      },
      "source": [
        "# Test"
      ]
    },
    {
      "cell_type": "code",
      "metadata": {
        "id": "Wck5JkFvdEtm",
        "colab_type": "code",
        "colab": {
          "base_uri": "https://localhost:8080/",
          "height": 51
        },
        "outputId": "5f493d47-01ae-420b-c8be-df473e29095b"
      },
      "source": [
        "plt.figure(figsize=(20,5))\n",
        "#sns.countplot(x= \"totals_visits\", data= df_train_new)"
      ],
      "execution_count": 13,
      "outputs": [
        {
          "output_type": "execute_result",
          "data": {
            "text/plain": [
              "<Figure size 1440x360 with 0 Axes>"
            ]
          },
          "metadata": {
            "tags": []
          },
          "execution_count": 13
        },
        {
          "output_type": "display_data",
          "data": {
            "text/plain": [
              "<Figure size 1440x360 with 0 Axes>"
            ]
          },
          "metadata": {
            "tags": []
          }
        }
      ]
    },
    {
      "cell_type": "markdown",
      "metadata": {
        "id": "5NXvQuZz078v",
        "colab_type": "text"
      },
      "source": [
        "# customer defining"
      ]
    },
    {
      "cell_type": "code",
      "metadata": {
        "id": "u8fvOcE2hve2",
        "colab_type": "code",
        "colab": {
          "base_uri": "https://localhost:8080/",
          "height": 34
        },
        "outputId": "1e47f384-6d0d-4ff5-d4e2-3fdd30dda7d9"
      },
      "source": [
        "# finding the customers:\n",
        "df_train_new[\"totals_transactions\"] = df_train_new[\"totals_transactions\"].apply(float)\n",
        "df_train_new[\"totals_transactionRevenue\"] = df_train_new[\"totals_transactionRevenue\"].apply(float)\n",
        "df_train_new[\"totals_totalTransactionRevenue\"] = df_train_new[\"totals_totalTransactionRevenue\"].apply(float)\n",
        "df_customer = df_train_new[(df_train_new[\"totals_transactions\"] > 0) | (df_train_new[\"totals_transactionRevenue\"] > 0)\\\n",
        "                           | (df_train_new[\"totals_totalTransactionRevenue\"] > 0)]\n",
        "df_customer.shape"
      ],
      "execution_count": 14,
      "outputs": [
        {
          "output_type": "execute_result",
          "data": {
            "text/plain": [
              "(18559, 18)"
            ]
          },
          "metadata": {
            "tags": []
          },
          "execution_count": 14
        }
      ]
    },
    {
      "cell_type": "code",
      "metadata": {
        "id": "rAFVUe_1t4PI",
        "colab_type": "code",
        "colab": {
          "base_uri": "https://localhost:8080/",
          "height": 34
        },
        "outputId": "2bea2cc8-56b5-41e4-82fd-ebc2bb3624be"
      },
      "source": [
        "18559 / 1708337"
      ],
      "execution_count": 15,
      "outputs": [
        {
          "output_type": "execute_result",
          "data": {
            "text/plain": [
              "0.010863781560663968"
            ]
          },
          "metadata": {
            "tags": []
          },
          "execution_count": 15
        }
      ]
    },
    {
      "cell_type": "code",
      "metadata": {
        "id": "mGyd2enqx_y9",
        "colab_type": "code",
        "colab": {
          "base_uri": "https://localhost:8080/",
          "height": 119
        },
        "outputId": "d22c0b2a-7968-4607-cfe2-a296bb3e5e56"
      },
      "source": [
        "df_customer.totals_transactionRevenue = df_customer.totals_transactionRevenue / 1000000\n",
        "df_customer.totals_totalTransactionRevenue = df_customer.totals_totalTransactionRevenue / 1000000"
      ],
      "execution_count": 16,
      "outputs": [
        {
          "output_type": "stream",
          "text": [
            "/usr/local/lib/python3.6/dist-packages/pandas/core/generic.py:5303: SettingWithCopyWarning: \n",
            "A value is trying to be set on a copy of a slice from a DataFrame.\n",
            "Try using .loc[row_indexer,col_indexer] = value instead\n",
            "\n",
            "See the caveats in the documentation: https://pandas.pydata.org/pandas-docs/stable/user_guide/indexing.html#returning-a-view-versus-a-copy\n",
            "  self[name] = value\n"
          ],
          "name": "stderr"
        }
      ]
    },
    {
      "cell_type": "markdown",
      "metadata": {
        "id": "Nnt7SGzK1Bp0",
        "colab_type": "text"
      },
      "source": [
        "# How to fill with propotion\n"
      ]
    },
    {
      "cell_type": "code",
      "metadata": {
        "id": "QhtAhvbHglEb",
        "colab_type": "code",
        "colab": {
          "base_uri": "https://localhost:8080/",
          "height": 131
        },
        "outputId": "affdc247-8862-48d3-80f5-d29a43df8994"
      },
      "source": [
        "df_customer.head(2)"
      ],
      "execution_count": 17,
      "outputs": [
        {
          "output_type": "execute_result",
          "data": {
            "text/html": [
              "<div>\n",
              "<style scoped>\n",
              "    .dataframe tbody tr th:only-of-type {\n",
              "        vertical-align: middle;\n",
              "    }\n",
              "\n",
              "    .dataframe tbody tr th {\n",
              "        vertical-align: top;\n",
              "    }\n",
              "\n",
              "    .dataframe thead th {\n",
              "        text-align: right;\n",
              "    }\n",
              "</style>\n",
              "<table border=\"1\" class=\"dataframe\">\n",
              "  <thead>\n",
              "    <tr style=\"text-align: right;\">\n",
              "      <th></th>\n",
              "      <th>channelGrouping</th>\n",
              "      <th>fullVisitorId</th>\n",
              "      <th>visitId</th>\n",
              "      <th>visitNumber</th>\n",
              "      <th>visitStartTime</th>\n",
              "      <th>device_browser</th>\n",
              "      <th>device_operatingSystem</th>\n",
              "      <th>device_isMobile</th>\n",
              "      <th>device_deviceCategory</th>\n",
              "      <th>geoNetwork_region</th>\n",
              "      <th>totals_visits</th>\n",
              "      <th>totals_hits</th>\n",
              "      <th>totals_pageviews</th>\n",
              "      <th>totals_timeOnSite</th>\n",
              "      <th>totals_transactions</th>\n",
              "      <th>totals_transactionRevenue</th>\n",
              "      <th>totals_totalTransactionRevenue</th>\n",
              "      <th>trafficSource_source</th>\n",
              "    </tr>\n",
              "  </thead>\n",
              "  <tbody>\n",
              "    <tr>\n",
              "      <th>433</th>\n",
              "      <td>Organic Search</td>\n",
              "      <td>9549826748224805897</td>\n",
              "      <td>1508200705</td>\n",
              "      <td>4</td>\n",
              "      <td>1508200705</td>\n",
              "      <td>Chrome</td>\n",
              "      <td>Macintosh</td>\n",
              "      <td>False</td>\n",
              "      <td>desktop</td>\n",
              "      <td>New York</td>\n",
              "      <td>1</td>\n",
              "      <td>9</td>\n",
              "      <td>9</td>\n",
              "      <td>261</td>\n",
              "      <td>1.0</td>\n",
              "      <td>15.19</td>\n",
              "      <td>17.19</td>\n",
              "      <td>google</td>\n",
              "    </tr>\n",
              "    <tr>\n",
              "      <th>550</th>\n",
              "      <td>Referral</td>\n",
              "      <td>3700714855829972615</td>\n",
              "      <td>1508192636</td>\n",
              "      <td>11</td>\n",
              "      <td>1508192636</td>\n",
              "      <td>Chrome</td>\n",
              "      <td>Windows</td>\n",
              "      <td>False</td>\n",
              "      <td>desktop</td>\n",
              "      <td>California</td>\n",
              "      <td>1</td>\n",
              "      <td>15</td>\n",
              "      <td>12</td>\n",
              "      <td>285</td>\n",
              "      <td>1.0</td>\n",
              "      <td>8.00</td>\n",
              "      <td>13.00</td>\n",
              "      <td>(direct)</td>\n",
              "    </tr>\n",
              "  </tbody>\n",
              "</table>\n",
              "</div>"
            ],
            "text/plain": [
              "    channelGrouping  ... trafficSource_source\n",
              "433  Organic Search  ...               google\n",
              "550        Referral  ...             (direct)\n",
              "\n",
              "[2 rows x 18 columns]"
            ]
          },
          "metadata": {
            "tags": []
          },
          "execution_count": 17
        }
      ]
    },
    {
      "cell_type": "markdown",
      "metadata": {
        "id": "VCcrBN-C7bMG",
        "colab_type": "text"
      },
      "source": [
        "reqrouping on columns"
      ]
    },
    {
      "cell_type": "code",
      "metadata": {
        "id": "Tpp3ITK1rwCl",
        "colab_type": "code",
        "colab": {}
      },
      "source": [
        "#To add some channels that haver less popularity in one group\n",
        "def regrouping_channels(channel):\n",
        "  if channel in [\"Social\",\"Affiliates\",'Display','Paid Search',\"(Other)\"]:\n",
        "    channel = \"Other_chan\"\n",
        "  return channel"
      ],
      "execution_count": 18,
      "outputs": []
    },
    {
      "cell_type": "code",
      "metadata": {
        "id": "dkV2UQnCsT2K",
        "colab_type": "code",
        "colab": {
          "base_uri": "https://localhost:8080/",
          "height": 119
        },
        "outputId": "1c0303c1-7c60-4781-a8f1-fdef2cd08ec5"
      },
      "source": [
        "df_customer.channelGrouping = df_customer.channelGrouping.apply(regrouping_channels)"
      ],
      "execution_count": 19,
      "outputs": [
        {
          "output_type": "stream",
          "text": [
            "/usr/local/lib/python3.6/dist-packages/pandas/core/generic.py:5303: SettingWithCopyWarning: \n",
            "A value is trying to be set on a copy of a slice from a DataFrame.\n",
            "Try using .loc[row_indexer,col_indexer] = value instead\n",
            "\n",
            "See the caveats in the documentation: https://pandas.pydata.org/pandas-docs/stable/user_guide/indexing.html#returning-a-view-versus-a-copy\n",
            "  self[name] = value\n"
          ],
          "name": "stderr"
        }
      ]
    },
    {
      "cell_type": "code",
      "metadata": {
        "id": "OKDDfxRarOuu",
        "colab_type": "code",
        "colab": {
          "base_uri": "https://localhost:8080/",
          "height": 34
        },
        "outputId": "23dbc457-6b02-4d3a-ab28-52baf7a722c8"
      },
      "source": [
        "df_customer.channelGrouping.unique()"
      ],
      "execution_count": 20,
      "outputs": [
        {
          "output_type": "execute_result",
          "data": {
            "text/plain": [
              "array(['Organic Search', 'Referral', 'Direct', 'Other_chan'], dtype=object)"
            ]
          },
          "metadata": {
            "tags": []
          },
          "execution_count": 20
        }
      ]
    },
    {
      "cell_type": "markdown",
      "metadata": {
        "id": "SisrlkRj3KcX",
        "colab_type": "text"
      },
      "source": [
        ""
      ]
    },
    {
      "cell_type": "code",
      "metadata": {
        "id": "v-J3s72q72mP",
        "colab_type": "code",
        "colab": {
          "base_uri": "https://localhost:8080/",
          "height": 68
        },
        "outputId": "f0e28e54-ff1e-41ce-85d8-a1b6d3cb7411"
      },
      "source": [
        "df_customer.device_browser.unique()"
      ],
      "execution_count": 21,
      "outputs": [
        {
          "output_type": "execute_result",
          "data": {
            "text/plain": [
              "array(['Chrome', 'Safari', 'Internet Explorer', 'Firefox',\n",
              "       'Safari (in-app)', 'Edge', 'Samsung Internet', 'Android Webview',\n",
              "       'Opera', 'Amazon Silk', 'YaBrowser'], dtype=object)"
            ]
          },
          "metadata": {
            "tags": []
          },
          "execution_count": 21
        }
      ]
    },
    {
      "cell_type": "code",
      "metadata": {
        "id": "V1GZyZb97r-R",
        "colab_type": "code",
        "colab": {}
      },
      "source": [
        "def regrouping_browsers (browser):\n",
        "  if browser in ['Safari (in-app)','Edge', 'Samsung Internet', 'Android Webview', 'Opera', 'Amazon Silk', 'YaBrowser']:\n",
        "    browser = \"Other\"\n",
        "  return browser"
      ],
      "execution_count": 23,
      "outputs": []
    },
    {
      "cell_type": "code",
      "metadata": {
        "id": "fHVixhu682MF",
        "colab_type": "code",
        "colab": {
          "base_uri": "https://localhost:8080/",
          "height": 119
        },
        "outputId": "26755013-151d-4bed-b9fc-ba45c9abd2f1"
      },
      "source": [
        "df_customer.device_browser = df_customer.device_browser.apply(regrouping_browsers)"
      ],
      "execution_count": 24,
      "outputs": [
        {
          "output_type": "stream",
          "text": [
            "/usr/local/lib/python3.6/dist-packages/pandas/core/generic.py:5303: SettingWithCopyWarning: \n",
            "A value is trying to be set on a copy of a slice from a DataFrame.\n",
            "Try using .loc[row_indexer,col_indexer] = value instead\n",
            "\n",
            "See the caveats in the documentation: https://pandas.pydata.org/pandas-docs/stable/user_guide/indexing.html#returning-a-view-versus-a-copy\n",
            "  self[name] = value\n"
          ],
          "name": "stderr"
        }
      ]
    },
    {
      "cell_type": "markdown",
      "metadata": {
        "id": "Z2rlMLxY9avh",
        "colab_type": "text"
      },
      "source": [
        "we need to do the same for other columns with strings"
      ]
    },
    {
      "cell_type": "code",
      "metadata": {
        "id": "Ostlq-srcfjK",
        "colab_type": "code",
        "colab": {}
      },
      "source": [
        "def city_rep(city):\n",
        "  if city in [\"not available in demo dataset\", \"(not set)\" ]:\n",
        "    arb_city = ['California', 'New York', 'Illinois', 'Washington',\"Texas\" ,]\n",
        "    city = np.random.choice(arb_city, 1, p=[0.5, 0.25, 0.15, 0.05 , 0.05 ])\n",
        "    city = str(city).lstrip('[').rstrip(']')\n",
        "    city = str(city).lstrip(\"'\").rstrip(\"'\")\n",
        "  return city"
      ],
      "execution_count": 28,
      "outputs": []
    },
    {
      "cell_type": "code",
      "metadata": {
        "id": "G_WbHfOAB2U5",
        "colab_type": "code",
        "colab": {
          "base_uri": "https://localhost:8080/",
          "height": 119
        },
        "outputId": "2072502b-897f-44e1-ae05-e45f59e86d76"
      },
      "source": [
        "df_customer.geoNetwork_region = df_customer.geoNetwork_region.apply(city_rep)"
      ],
      "execution_count": 29,
      "outputs": [
        {
          "output_type": "stream",
          "text": [
            "/usr/local/lib/python3.6/dist-packages/pandas/core/generic.py:5303: SettingWithCopyWarning: \n",
            "A value is trying to be set on a copy of a slice from a DataFrame.\n",
            "Try using .loc[row_indexer,col_indexer] = value instead\n",
            "\n",
            "See the caveats in the documentation: https://pandas.pydata.org/pandas-docs/stable/user_guide/indexing.html#returning-a-view-versus-a-copy\n",
            "  self[name] = value\n"
          ],
          "name": "stderr"
        }
      ]
    },
    {
      "cell_type": "code",
      "metadata": {
        "id": "VDxg2D3EdH7t",
        "colab_type": "code",
        "colab": {
          "base_uri": "https://localhost:8080/",
          "height": 131
        },
        "outputId": "c13c89f7-e532-4b87-af5d-1b5a901977c4"
      },
      "source": [
        "df_customer.head(2)"
      ],
      "execution_count": 31,
      "outputs": [
        {
          "output_type": "execute_result",
          "data": {
            "text/html": [
              "<div>\n",
              "<style scoped>\n",
              "    .dataframe tbody tr th:only-of-type {\n",
              "        vertical-align: middle;\n",
              "    }\n",
              "\n",
              "    .dataframe tbody tr th {\n",
              "        vertical-align: top;\n",
              "    }\n",
              "\n",
              "    .dataframe thead th {\n",
              "        text-align: right;\n",
              "    }\n",
              "</style>\n",
              "<table border=\"1\" class=\"dataframe\">\n",
              "  <thead>\n",
              "    <tr style=\"text-align: right;\">\n",
              "      <th></th>\n",
              "      <th>channelGrouping</th>\n",
              "      <th>fullVisitorId</th>\n",
              "      <th>visitId</th>\n",
              "      <th>visitNumber</th>\n",
              "      <th>visitStartTime</th>\n",
              "      <th>device_browser</th>\n",
              "      <th>device_operatingSystem</th>\n",
              "      <th>device_isMobile</th>\n",
              "      <th>device_deviceCategory</th>\n",
              "      <th>geoNetwork_region</th>\n",
              "      <th>totals_visits</th>\n",
              "      <th>totals_hits</th>\n",
              "      <th>totals_pageviews</th>\n",
              "      <th>totals_timeOnSite</th>\n",
              "      <th>totals_transactions</th>\n",
              "      <th>totals_transactionRevenue</th>\n",
              "      <th>totals_totalTransactionRevenue</th>\n",
              "      <th>trafficSource_source</th>\n",
              "    </tr>\n",
              "  </thead>\n",
              "  <tbody>\n",
              "    <tr>\n",
              "      <th>433</th>\n",
              "      <td>Organic Search</td>\n",
              "      <td>9549826748224805897</td>\n",
              "      <td>1508200705</td>\n",
              "      <td>4</td>\n",
              "      <td>1508200705</td>\n",
              "      <td>Chrome</td>\n",
              "      <td>Macintosh</td>\n",
              "      <td>False</td>\n",
              "      <td>desktop</td>\n",
              "      <td>New York</td>\n",
              "      <td>1</td>\n",
              "      <td>9</td>\n",
              "      <td>9</td>\n",
              "      <td>261</td>\n",
              "      <td>1.0</td>\n",
              "      <td>15.19</td>\n",
              "      <td>17.19</td>\n",
              "      <td>google</td>\n",
              "    </tr>\n",
              "    <tr>\n",
              "      <th>550</th>\n",
              "      <td>Referral</td>\n",
              "      <td>3700714855829972615</td>\n",
              "      <td>1508192636</td>\n",
              "      <td>11</td>\n",
              "      <td>1508192636</td>\n",
              "      <td>Chrome</td>\n",
              "      <td>Windows</td>\n",
              "      <td>False</td>\n",
              "      <td>desktop</td>\n",
              "      <td>California</td>\n",
              "      <td>1</td>\n",
              "      <td>15</td>\n",
              "      <td>12</td>\n",
              "      <td>285</td>\n",
              "      <td>1.0</td>\n",
              "      <td>8.00</td>\n",
              "      <td>13.00</td>\n",
              "      <td>(direct)</td>\n",
              "    </tr>\n",
              "  </tbody>\n",
              "</table>\n",
              "</div>"
            ],
            "text/plain": [
              "    channelGrouping  ... trafficSource_source\n",
              "433  Organic Search  ...               google\n",
              "550        Referral  ...             (direct)\n",
              "\n",
              "[2 rows x 18 columns]"
            ]
          },
          "metadata": {
            "tags": []
          },
          "execution_count": 31
        }
      ]
    },
    {
      "cell_type": "code",
      "metadata": {
        "id": "kYum9ziIdNwY",
        "colab_type": "code",
        "colab": {
          "base_uri": "https://localhost:8080/",
          "height": 51
        },
        "outputId": "4d2733cb-c9a8-43be-c0e3-090b21cc2c8c"
      },
      "source": [
        "df_customer.device_operatingSystem.unique()"
      ],
      "execution_count": 34,
      "outputs": [
        {
          "output_type": "execute_result",
          "data": {
            "text/plain": [
              "array(['Macintosh', 'Windows', 'iOS', 'Chrome OS', 'Linux', 'Android',\n",
              "       'Windows Phone'], dtype=object)"
            ]
          },
          "metadata": {
            "tags": []
          },
          "execution_count": 34
        }
      ]
    },
    {
      "cell_type": "code",
      "metadata": {
        "id": "hm9gsSxHs3EC",
        "colab_type": "code",
        "colab": {}
      },
      "source": [
        "#sns.countplot(df_customer.device_operatingSystem)"
      ],
      "execution_count": 35,
      "outputs": []
    },
    {
      "cell_type": "code",
      "metadata": {
        "id": "prI0rtuSt0F1",
        "colab_type": "code",
        "colab": {
          "base_uri": "https://localhost:8080/",
          "height": 170
        },
        "outputId": "2683d357-272f-4092-800f-50209d488efc"
      },
      "source": [
        "df_customer.groupby(['device_operatingSystem'])['fullVisitorId'].count().sort_values(ascending=False).head(9)"
      ],
      "execution_count": 36,
      "outputs": [
        {
          "output_type": "execute_result",
          "data": {
            "text/plain": [
              "device_operatingSystem\n",
              "Macintosh        10370\n",
              "Windows           3592\n",
              "Chrome OS         1703\n",
              "Linux             1304\n",
              "iOS                833\n",
              "Android            756\n",
              "Windows Phone        1\n",
              "Name: fullVisitorId, dtype: int64"
            ]
          },
          "metadata": {
            "tags": []
          },
          "execution_count": 36
        }
      ]
    },
    {
      "cell_type": "code",
      "metadata": {
        "id": "V6X4AAbMt7dy",
        "colab_type": "code",
        "colab": {}
      },
      "source": [
        "def regrouping_operation (sys):\n",
        "  if sys in [\"Windows Phone\",\"Android\",\"iOS\"]:\n",
        "    sys = \"Other\"\n",
        "  return sys"
      ],
      "execution_count": 37,
      "outputs": []
    },
    {
      "cell_type": "code",
      "metadata": {
        "id": "KFsO5EKZudAu",
        "colab_type": "code",
        "colab": {
          "base_uri": "https://localhost:8080/",
          "height": 119
        },
        "outputId": "0d064f39-49b4-462d-aa37-8c7f60d19144"
      },
      "source": [
        "df_customer.device_operatingSystem = df_customer.device_operatingSystem.apply(regrouping_operation)"
      ],
      "execution_count": 38,
      "outputs": [
        {
          "output_type": "stream",
          "text": [
            "/usr/local/lib/python3.6/dist-packages/pandas/core/generic.py:5303: SettingWithCopyWarning: \n",
            "A value is trying to be set on a copy of a slice from a DataFrame.\n",
            "Try using .loc[row_indexer,col_indexer] = value instead\n",
            "\n",
            "See the caveats in the documentation: https://pandas.pydata.org/pandas-docs/stable/user_guide/indexing.html#returning-a-view-versus-a-copy\n",
            "  self[name] = value\n"
          ],
          "name": "stderr"
        }
      ]
    },
    {
      "cell_type": "code",
      "metadata": {
        "id": "aRKfMetLujkX",
        "colab_type": "code",
        "colab": {
          "base_uri": "https://localhost:8080/",
          "height": 136
        },
        "outputId": "e16a0a45-6511-4182-b17d-b24fbc342ca2"
      },
      "source": [
        "df_customer.groupby(['device_operatingSystem'])['fullVisitorId'].count().sort_values(ascending=False).head(9)"
      ],
      "execution_count": 39,
      "outputs": [
        {
          "output_type": "execute_result",
          "data": {
            "text/plain": [
              "device_operatingSystem\n",
              "Macintosh    10370\n",
              "Windows       3592\n",
              "Chrome OS     1703\n",
              "Other         1590\n",
              "Linux         1304\n",
              "Name: fullVisitorId, dtype: int64"
            ]
          },
          "metadata": {
            "tags": []
          },
          "execution_count": 39
        }
      ]
    },
    {
      "cell_type": "code",
      "metadata": {
        "id": "tqHfcqNXumgg",
        "colab_type": "code",
        "colab": {
          "base_uri": "https://localhost:8080/",
          "height": 102
        },
        "outputId": "f757de21-2bc9-46f6-c3de-3c692a0a2dbb"
      },
      "source": [
        "df_customer.groupby(['device_deviceCategory'])['fullVisitorId'].count().sort_values(ascending=False).head(9)"
      ],
      "execution_count": 40,
      "outputs": [
        {
          "output_type": "execute_result",
          "data": {
            "text/plain": [
              "device_deviceCategory\n",
              "desktop    16946\n",
              "mobile      1368\n",
              "tablet       245\n",
              "Name: fullVisitorId, dtype: int64"
            ]
          },
          "metadata": {
            "tags": []
          },
          "execution_count": 40
        }
      ]
    },
    {
      "cell_type": "code",
      "metadata": {
        "id": "_K9Xh3f87m1x",
        "colab_type": "code",
        "colab": {}
      },
      "source": [
        "def regrouping_source (sys):\n",
        "  if sys not in [\"(direct)\",\"google\"]:\n",
        "    sys = \"Other\"\n",
        "  return sys"
      ],
      "execution_count": 42,
      "outputs": []
    },
    {
      "cell_type": "code",
      "metadata": {
        "id": "cJW-ukWL8YbL",
        "colab_type": "code",
        "colab": {
          "base_uri": "https://localhost:8080/",
          "height": 119
        },
        "outputId": "fd23bedb-da97-438a-b2aa-b50427010161"
      },
      "source": [
        "df_customer.trafficSource_source = df_customer.trafficSource_source.apply(regrouping_source)"
      ],
      "execution_count": 43,
      "outputs": [
        {
          "output_type": "stream",
          "text": [
            "/usr/local/lib/python3.6/dist-packages/pandas/core/generic.py:5303: SettingWithCopyWarning: \n",
            "A value is trying to be set on a copy of a slice from a DataFrame.\n",
            "Try using .loc[row_indexer,col_indexer] = value instead\n",
            "\n",
            "See the caveats in the documentation: https://pandas.pydata.org/pandas-docs/stable/user_guide/indexing.html#returning-a-view-versus-a-copy\n",
            "  self[name] = value\n"
          ],
          "name": "stderr"
        }
      ]
    },
    {
      "cell_type": "code",
      "metadata": {
        "id": "m806pLGgwG-e",
        "colab_type": "code",
        "colab": {
          "base_uri": "https://localhost:8080/",
          "height": 221
        },
        "outputId": "cc389e4a-2a19-4610-cbd5-10697d956b3e"
      },
      "source": [
        "df_customer.geoNetwork_region.unique"
      ],
      "execution_count": 44,
      "outputs": [
        {
          "output_type": "execute_result",
          "data": {
            "text/plain": [
              "<bound method Series.unique of 433          New York\n",
              "550        California\n",
              "555        California\n",
              "597        California\n",
              "619          New York\n",
              "              ...    \n",
              "1707986      New York\n",
              "1707989         Texas\n",
              "1707998         Seoul\n",
              "1707999      New York\n",
              "1708001      New York\n",
              "Name: geoNetwork_region, Length: 18559, dtype: object>"
            ]
          },
          "metadata": {
            "tags": []
          },
          "execution_count": 44
        }
      ]
    },
    {
      "cell_type": "code",
      "metadata": {
        "id": "FHKsZUVU2Yfk",
        "colab_type": "code",
        "colab": {
          "base_uri": "https://localhost:8080/",
          "height": 224
        },
        "outputId": "6433d2e3-8577-405e-df5f-173aa42f1118"
      },
      "source": [
        "df_customer.head(5)"
      ],
      "execution_count": 47,
      "outputs": [
        {
          "output_type": "execute_result",
          "data": {
            "text/html": [
              "<div>\n",
              "<style scoped>\n",
              "    .dataframe tbody tr th:only-of-type {\n",
              "        vertical-align: middle;\n",
              "    }\n",
              "\n",
              "    .dataframe tbody tr th {\n",
              "        vertical-align: top;\n",
              "    }\n",
              "\n",
              "    .dataframe thead th {\n",
              "        text-align: right;\n",
              "    }\n",
              "</style>\n",
              "<table border=\"1\" class=\"dataframe\">\n",
              "  <thead>\n",
              "    <tr style=\"text-align: right;\">\n",
              "      <th></th>\n",
              "      <th>channelGrouping</th>\n",
              "      <th>fullVisitorId</th>\n",
              "      <th>visitId</th>\n",
              "      <th>visitNumber</th>\n",
              "      <th>visitStartTime</th>\n",
              "      <th>device_browser</th>\n",
              "      <th>device_operatingSystem</th>\n",
              "      <th>device_isMobile</th>\n",
              "      <th>device_deviceCategory</th>\n",
              "      <th>geoNetwork_region</th>\n",
              "      <th>totals_visits</th>\n",
              "      <th>totals_hits</th>\n",
              "      <th>totals_pageviews</th>\n",
              "      <th>totals_timeOnSite</th>\n",
              "      <th>totals_transactions</th>\n",
              "      <th>totals_transactionRevenue</th>\n",
              "      <th>totals_totalTransactionRevenue</th>\n",
              "      <th>trafficSource_source</th>\n",
              "    </tr>\n",
              "  </thead>\n",
              "  <tbody>\n",
              "    <tr>\n",
              "      <th>433</th>\n",
              "      <td>Organic Search</td>\n",
              "      <td>9549826748224805897</td>\n",
              "      <td>1508200705</td>\n",
              "      <td>4</td>\n",
              "      <td>1508200705</td>\n",
              "      <td>Chrome</td>\n",
              "      <td>Macintosh</td>\n",
              "      <td>False</td>\n",
              "      <td>desktop</td>\n",
              "      <td>New York</td>\n",
              "      <td>1</td>\n",
              "      <td>9</td>\n",
              "      <td>9</td>\n",
              "      <td>261</td>\n",
              "      <td>1.0</td>\n",
              "      <td>15.19</td>\n",
              "      <td>17.19</td>\n",
              "      <td>google</td>\n",
              "    </tr>\n",
              "    <tr>\n",
              "      <th>550</th>\n",
              "      <td>Referral</td>\n",
              "      <td>3700714855829972615</td>\n",
              "      <td>1508192636</td>\n",
              "      <td>11</td>\n",
              "      <td>1508192636</td>\n",
              "      <td>Chrome</td>\n",
              "      <td>Windows</td>\n",
              "      <td>False</td>\n",
              "      <td>desktop</td>\n",
              "      <td>California</td>\n",
              "      <td>1</td>\n",
              "      <td>15</td>\n",
              "      <td>12</td>\n",
              "      <td>285</td>\n",
              "      <td>1.0</td>\n",
              "      <td>8.00</td>\n",
              "      <td>13.00</td>\n",
              "      <td>(direct)</td>\n",
              "    </tr>\n",
              "    <tr>\n",
              "      <th>555</th>\n",
              "      <td>Organic Search</td>\n",
              "      <td>1572225825161580042</td>\n",
              "      <td>1508162218</td>\n",
              "      <td>6</td>\n",
              "      <td>1508162218</td>\n",
              "      <td>Safari</td>\n",
              "      <td>Other</td>\n",
              "      <td>True</td>\n",
              "      <td>mobile</td>\n",
              "      <td>California</td>\n",
              "      <td>1</td>\n",
              "      <td>15</td>\n",
              "      <td>15</td>\n",
              "      <td>1044</td>\n",
              "      <td>1.0</td>\n",
              "      <td>57.30</td>\n",
              "      <td>65.30</td>\n",
              "      <td>google</td>\n",
              "    </tr>\n",
              "    <tr>\n",
              "      <th>597</th>\n",
              "      <td>Referral</td>\n",
              "      <td>7187192533100162289</td>\n",
              "      <td>1508189401</td>\n",
              "      <td>17</td>\n",
              "      <td>1508189401</td>\n",
              "      <td>Chrome</td>\n",
              "      <td>Macintosh</td>\n",
              "      <td>False</td>\n",
              "      <td>desktop</td>\n",
              "      <td>California</td>\n",
              "      <td>1</td>\n",
              "      <td>18</td>\n",
              "      <td>16</td>\n",
              "      <td>514</td>\n",
              "      <td>1.0</td>\n",
              "      <td>18.23</td>\n",
              "      <td>25.23</td>\n",
              "      <td>(direct)</td>\n",
              "    </tr>\n",
              "    <tr>\n",
              "      <th>619</th>\n",
              "      <td>Referral</td>\n",
              "      <td>7889233516776348524</td>\n",
              "      <td>1508190484</td>\n",
              "      <td>1</td>\n",
              "      <td>1508190484</td>\n",
              "      <td>Chrome</td>\n",
              "      <td>Macintosh</td>\n",
              "      <td>False</td>\n",
              "      <td>desktop</td>\n",
              "      <td>New York</td>\n",
              "      <td>1</td>\n",
              "      <td>21</td>\n",
              "      <td>20</td>\n",
              "      <td>487</td>\n",
              "      <td>1.0</td>\n",
              "      <td>12.31</td>\n",
              "      <td>16.31</td>\n",
              "      <td>(direct)</td>\n",
              "    </tr>\n",
              "  </tbody>\n",
              "</table>\n",
              "</div>"
            ],
            "text/plain": [
              "    channelGrouping  ... trafficSource_source\n",
              "433  Organic Search  ...               google\n",
              "550        Referral  ...             (direct)\n",
              "555  Organic Search  ...               google\n",
              "597        Referral  ...             (direct)\n",
              "619        Referral  ...             (direct)\n",
              "\n",
              "[5 rows x 18 columns]"
            ]
          },
          "metadata": {
            "tags": []
          },
          "execution_count": 47
        }
      ]
    },
    {
      "cell_type": "markdown",
      "metadata": {
        "id": "lzpLy7Pf5C5l",
        "colab_type": "text"
      },
      "source": [
        ""
      ]
    },
    {
      "cell_type": "code",
      "metadata": {
        "id": "zqtjzlLgcdvX",
        "colab_type": "code",
        "colab": {
          "base_uri": "https://localhost:8080/",
          "height": 34
        },
        "outputId": "ffdb271a-096d-4d2d-d5b7-125479c8ae87"
      },
      "source": [
        "#one hot channelGrouping\n",
        "rated_dummies1 = pd.get_dummies(df_customer.channelGrouping)\n",
        "df1 = pd.concat([df_customer, rated_dummies1], axis=1)\n",
        "df1  = df1.drop([\"channelGrouping\"], axis=1)\n",
        "df1.head()\n",
        "print(df1.shape)\n"
      ],
      "execution_count": 48,
      "outputs": [
        {
          "output_type": "stream",
          "text": [
            "(18559, 21)\n"
          ],
          "name": "stdout"
        }
      ]
    },
    {
      "cell_type": "code",
      "metadata": {
        "id": "tiObJTRK1zmz",
        "colab_type": "code",
        "colab": {
          "base_uri": "https://localhost:8080/",
          "height": 34
        },
        "outputId": "a264cfc4-4b04-49d8-dcb0-d885361e97a7"
      },
      "source": [
        "#one hot device_browser\n",
        "rated_dummies2 = pd.get_dummies(df1.device_browser)\n",
        "df1 = pd.concat([df1, rated_dummies2], axis=1)\n",
        "df1  = df1.drop([\"device_browser\"], axis=1)\n",
        "df1.head()\n",
        "print(df1.shape)"
      ],
      "execution_count": 49,
      "outputs": [
        {
          "output_type": "stream",
          "text": [
            "(18559, 25)\n"
          ],
          "name": "stdout"
        }
      ]
    },
    {
      "cell_type": "code",
      "metadata": {
        "id": "ArrkyPzU2neI",
        "colab_type": "code",
        "colab": {
          "base_uri": "https://localhost:8080/",
          "height": 34
        },
        "outputId": "639f9209-8c6c-433b-cbbf-f1d3f46bd9af"
      },
      "source": [
        "#one hot device_operatingSystem\n",
        "rated_dummies3 = pd.get_dummies(df1.device_operatingSystem)\n",
        "df1 = pd.concat([df1, rated_dummies3], axis=1)\n",
        "df1  = df1.drop([\"device_operatingSystem\"], axis=1)\n",
        "df1.head()\n",
        "print(df1.shape)"
      ],
      "execution_count": 50,
      "outputs": [
        {
          "output_type": "stream",
          "text": [
            "(18559, 29)\n"
          ],
          "name": "stdout"
        }
      ]
    },
    {
      "cell_type": "code",
      "metadata": {
        "id": "EEZ48Hg829qp",
        "colab_type": "code",
        "colab": {
          "base_uri": "https://localhost:8080/",
          "height": 34
        },
        "outputId": "b7294482-7ff4-4995-fd20-474b7ea81151"
      },
      "source": [
        "#one hot device_deviceCategory\n",
        "rated_dummies4 = pd.get_dummies(df1.device_deviceCategory)\n",
        "df1 = pd.concat([df1, rated_dummies4], axis=1)\n",
        "df1  = df1.drop([\"device_deviceCategory\"], axis=1)\n",
        "df1.head()\n",
        "print(df1.shape)"
      ],
      "execution_count": 51,
      "outputs": [
        {
          "output_type": "stream",
          "text": [
            "(18559, 31)\n"
          ],
          "name": "stdout"
        }
      ]
    },
    {
      "cell_type": "code",
      "metadata": {
        "id": "Ps78pMb33PIi",
        "colab_type": "code",
        "colab": {}
      },
      "source": [
        "#city >400 col ?????"
      ],
      "execution_count": 52,
      "outputs": []
    },
    {
      "cell_type": "code",
      "metadata": {
        "id": "myIKpoy73iOE",
        "colab_type": "code",
        "colab": {
          "base_uri": "https://localhost:8080/",
          "height": 34
        },
        "outputId": "e17c0291-d348-4d53-d184-d133cd220fdc"
      },
      "source": [
        "#one hot trafficSource_source\n",
        "rated_dummies5 = pd.get_dummies(df1.trafficSource_source)\n",
        "df1 = pd.concat([df1, rated_dummies5], axis=1)\n",
        "df1  = df1.drop([\"trafficSource_source\"], axis=1)\n",
        "df1.head()\n",
        "print(df1.shape)"
      ],
      "execution_count": 53,
      "outputs": [
        {
          "output_type": "stream",
          "text": [
            "(18559, 33)\n"
          ],
          "name": "stdout"
        }
      ]
    },
    {
      "cell_type": "code",
      "metadata": {
        "id": "C7z-KdRV98od",
        "colab_type": "code",
        "colab": {}
      },
      "source": [
        "#nan haro hazf konim"
      ],
      "execution_count": 54,
      "outputs": []
    },
    {
      "cell_type": "code",
      "metadata": {
        "id": "HO-lPkDq3rSY",
        "colab_type": "code",
        "colab": {}
      },
      "source": [
        "df1.to_csv(\"df1.csv\")"
      ],
      "execution_count": 55,
      "outputs": []
    },
    {
      "cell_type": "code",
      "metadata": {
        "id": "jGWJf61_9F4S",
        "colab_type": "code",
        "colab": {}
      },
      "source": [
        "def regrouping_region (reg):\n",
        "  if reg not in [\"California\",\"New York\", \"Illinois\",\"Texas\",\"Washington\",\"Michigan\",\"Massachusetts\",\"Georgia\",\"District of Columbia\",\\\n",
        "                 \"Ontario\",\"Pennsylvania\",\"Virginia\",\"Colorado\"]:\n",
        "    reg = \"Other\"\n",
        "  return reg"
      ],
      "execution_count": 56,
      "outputs": []
    },
    {
      "cell_type": "code",
      "metadata": {
        "id": "0JxQyhCy926T",
        "colab_type": "code",
        "colab": {}
      },
      "source": [
        "df1.geoNetwork_region = df1.geoNetwork_region.apply(regrouping_region)"
      ],
      "execution_count": 57,
      "outputs": []
    },
    {
      "cell_type": "code",
      "metadata": {
        "id": "pkWBlNQy9_In",
        "colab_type": "code",
        "colab": {
          "base_uri": "https://localhost:8080/",
          "height": 289
        },
        "outputId": "82062a6a-fc35-483f-d7bb-b941a839a5f5"
      },
      "source": [
        "df1.groupby(['geoNetwork_region'])['fullVisitorId'].count().sort_values(ascending=False).head(15)"
      ],
      "execution_count": 58,
      "outputs": [
        {
          "output_type": "execute_result",
          "data": {
            "text/plain": [
              "geoNetwork_region\n",
              "California              9272\n",
              "New York                4188\n",
              "Illinois                1751\n",
              "Texas                    885\n",
              "Washington               858\n",
              "Other                    457\n",
              "Michigan                 276\n",
              "Massachusetts            221\n",
              "Georgia                  160\n",
              "District of Columbia     143\n",
              "Ontario                   96\n",
              "Pennsylvania              95\n",
              "Virginia                  88\n",
              "Colorado                  69\n",
              "Name: fullVisitorId, dtype: int64"
            ]
          },
          "metadata": {
            "tags": []
          },
          "execution_count": 58
        }
      ]
    },
    {
      "cell_type": "code",
      "metadata": {
        "id": "Cify1rqh-XVa",
        "colab_type": "code",
        "colab": {
          "base_uri": "https://localhost:8080/",
          "height": 34
        },
        "outputId": "acaad853-7542-4955-b667-f8682a2b26a7"
      },
      "source": [
        "#one hot regions\n",
        "rated_dummies6 = pd.get_dummies(df1.geoNetwork_region)\n",
        "df1 = pd.concat([df1, rated_dummies6], axis=1)\n",
        "df1  = df1.drop([\"geoNetwork_region\"], axis=1)\n",
        "df1.head()\n",
        "print(df1.shape)"
      ],
      "execution_count": 59,
      "outputs": [
        {
          "output_type": "stream",
          "text": [
            "(18559, 46)\n"
          ],
          "name": "stdout"
        }
      ]
    },
    {
      "cell_type": "code",
      "metadata": {
        "id": "VRYmCph1-06A",
        "colab_type": "code",
        "colab": {
          "base_uri": "https://localhost:8080/",
          "height": 221
        },
        "outputId": "8e56f754-140d-4eea-e9e9-72bea09a9955"
      },
      "source": [
        "df1.totals_transactionRevenue.fillna(0)"
      ],
      "execution_count": 60,
      "outputs": [
        {
          "output_type": "execute_result",
          "data": {
            "text/plain": [
              "433         15.19\n",
              "550          8.00\n",
              "555         57.30\n",
              "597         18.23\n",
              "619         12.31\n",
              "            ...  \n",
              "1707986    335.26\n",
              "1707989    599.95\n",
              "1707998     30.75\n",
              "1707999     69.39\n",
              "1708001     74.99\n",
              "Name: totals_transactionRevenue, Length: 18559, dtype: float64"
            ]
          },
          "metadata": {
            "tags": []
          },
          "execution_count": 60
        }
      ]
    },
    {
      "cell_type": "code",
      "metadata": {
        "id": "uThQbbAG_N2-",
        "colab_type": "code",
        "colab": {}
      },
      "source": [
        "def delet_nan(item):\n",
        "  if (item >= 0) or (item < 0 ):\n",
        "    item = item\n",
        "  else:\n",
        "    item = 0\n",
        "  return item"
      ],
      "execution_count": 61,
      "outputs": []
    },
    {
      "cell_type": "code",
      "metadata": {
        "id": "wFnZxidx_lDp",
        "colab_type": "code",
        "colab": {}
      },
      "source": [
        "df1.totals_transactionRevenue = df1.totals_transactionRevenue.apply(delet_nan)"
      ],
      "execution_count": 62,
      "outputs": []
    },
    {
      "cell_type": "code",
      "metadata": {
        "id": "1J_GI4-5_3Va",
        "colab_type": "code",
        "colab": {}
      },
      "source": [
        "df1.totals_totalTransactionRevenue = df1.totals_totalTransactionRevenue.apply(delet_nan)"
      ],
      "execution_count": 63,
      "outputs": []
    },
    {
      "cell_type": "code",
      "metadata": {
        "id": "qpCuTjnnBQqp",
        "colab_type": "code",
        "colab": {}
      },
      "source": [
        "df1[\"totals_timeOnSite\"] = df1[\"totals_timeOnSite\"].apply(float)"
      ],
      "execution_count": 64,
      "outputs": []
    },
    {
      "cell_type": "code",
      "metadata": {
        "id": "ixRaVf2AAYLS",
        "colab_type": "code",
        "colab": {}
      },
      "source": [
        "df1.totals_timeOnSite = df1.totals_timeOnSite.apply(delet_nan)"
      ],
      "execution_count": 65,
      "outputs": []
    },
    {
      "cell_type": "code",
      "metadata": {
        "id": "LByZFHmJJS6Z",
        "colab_type": "code",
        "colab": {
          "base_uri": "https://localhost:8080/",
          "height": 816
        },
        "outputId": "b29c2c9f-4c21-4133-b541-e1b378b4587a"
      },
      "source": [
        "df1.isna().sum()"
      ],
      "execution_count": 69,
      "outputs": [
        {
          "output_type": "execute_result",
          "data": {
            "text/plain": [
              "fullVisitorId                     0\n",
              "visitId                           0\n",
              "visitNumber                       0\n",
              "visitStartTime                    0\n",
              "device_isMobile                   0\n",
              "totals_visits                     0\n",
              "totals_hits                       0\n",
              "totals_pageviews                  0\n",
              "totals_timeOnSite                 0\n",
              "totals_transactions               0\n",
              "totals_transactionRevenue         0\n",
              "totals_totalTransactionRevenue    0\n",
              "Direct                            0\n",
              "Organic Search                    0\n",
              "Other_chan                        0\n",
              "Referral                          0\n",
              "Chrome                            0\n",
              "Firefox                           0\n",
              "Internet Explorer                 0\n",
              "Other                             0\n",
              "Safari                            0\n",
              "Chrome OS                         0\n",
              "Linux                             0\n",
              "Macintosh                         0\n",
              "Other                             0\n",
              "Windows                           0\n",
              "desktop                           0\n",
              "mobile                            0\n",
              "tablet                            0\n",
              "(direct)                          0\n",
              "Other                             0\n",
              "google                            0\n",
              "California                        0\n",
              "Colorado                          0\n",
              "District of Columbia              0\n",
              "Georgia                           0\n",
              "Illinois                          0\n",
              "Massachusetts                     0\n",
              "Michigan                          0\n",
              "New York                          0\n",
              "Ontario                           0\n",
              "Other                             0\n",
              "Pennsylvania                      0\n",
              "Texas                             0\n",
              "Virginia                          0\n",
              "Washington                        0\n",
              "dtype: int64"
            ]
          },
          "metadata": {
            "tags": []
          },
          "execution_count": 69
        }
      ]
    },
    {
      "cell_type": "code",
      "metadata": {
        "id": "5Xw6L_-QBlEt",
        "colab_type": "code",
        "colab": {}
      },
      "source": [
        "# Final dataframe before Machine Learning\n",
        "df_customer_train = df1"
      ],
      "execution_count": 70,
      "outputs": []
    },
    {
      "cell_type": "markdown",
      "metadata": {
        "id": "TiXvx1HDB1VX",
        "colab_type": "text"
      },
      "source": [
        "MACHINE LEARNING PART"
      ]
    },
    {
      "cell_type": "code",
      "metadata": {
        "id": "RcPDgw75F3SC",
        "colab_type": "code",
        "colab": {}
      },
      "source": [
        "import sklearn.model_selection as model_selection\n",
        "import sklearn.linear_model as model\n",
        "from sklearn.model_selection import train_test_split\n",
        "from sklearn.ensemble import RandomForestRegressor"
      ],
      "execution_count": 71,
      "outputs": []
    },
    {
      "cell_type": "code",
      "metadata": {
        "id": "lFsxksPDCvvS",
        "colab_type": "code",
        "colab": {
          "base_uri": "https://localhost:8080/",
          "height": 165
        },
        "outputId": "da887e10-21a6-4241-ba44-1ffe0b1c1d9c"
      },
      "source": [
        "df1.head(2)"
      ],
      "execution_count": 72,
      "outputs": [
        {
          "output_type": "execute_result",
          "data": {
            "text/html": [
              "<div>\n",
              "<style scoped>\n",
              "    .dataframe tbody tr th:only-of-type {\n",
              "        vertical-align: middle;\n",
              "    }\n",
              "\n",
              "    .dataframe tbody tr th {\n",
              "        vertical-align: top;\n",
              "    }\n",
              "\n",
              "    .dataframe thead th {\n",
              "        text-align: right;\n",
              "    }\n",
              "</style>\n",
              "<table border=\"1\" class=\"dataframe\">\n",
              "  <thead>\n",
              "    <tr style=\"text-align: right;\">\n",
              "      <th></th>\n",
              "      <th>fullVisitorId</th>\n",
              "      <th>visitId</th>\n",
              "      <th>visitNumber</th>\n",
              "      <th>visitStartTime</th>\n",
              "      <th>device_isMobile</th>\n",
              "      <th>totals_visits</th>\n",
              "      <th>totals_hits</th>\n",
              "      <th>totals_pageviews</th>\n",
              "      <th>totals_timeOnSite</th>\n",
              "      <th>totals_transactions</th>\n",
              "      <th>totals_transactionRevenue</th>\n",
              "      <th>totals_totalTransactionRevenue</th>\n",
              "      <th>Direct</th>\n",
              "      <th>Organic Search</th>\n",
              "      <th>Other_chan</th>\n",
              "      <th>Referral</th>\n",
              "      <th>Chrome</th>\n",
              "      <th>Firefox</th>\n",
              "      <th>Internet Explorer</th>\n",
              "      <th>Other</th>\n",
              "      <th>Safari</th>\n",
              "      <th>Chrome OS</th>\n",
              "      <th>Linux</th>\n",
              "      <th>Macintosh</th>\n",
              "      <th>Other</th>\n",
              "      <th>Windows</th>\n",
              "      <th>desktop</th>\n",
              "      <th>mobile</th>\n",
              "      <th>tablet</th>\n",
              "      <th>(direct)</th>\n",
              "      <th>Other</th>\n",
              "      <th>google</th>\n",
              "      <th>California</th>\n",
              "      <th>Colorado</th>\n",
              "      <th>District of Columbia</th>\n",
              "      <th>Georgia</th>\n",
              "      <th>Illinois</th>\n",
              "      <th>Massachusetts</th>\n",
              "      <th>Michigan</th>\n",
              "      <th>New York</th>\n",
              "      <th>Ontario</th>\n",
              "      <th>Other</th>\n",
              "      <th>Pennsylvania</th>\n",
              "      <th>Texas</th>\n",
              "      <th>Virginia</th>\n",
              "      <th>Washington</th>\n",
              "    </tr>\n",
              "  </thead>\n",
              "  <tbody>\n",
              "    <tr>\n",
              "      <th>433</th>\n",
              "      <td>9549826748224805897</td>\n",
              "      <td>1508200705</td>\n",
              "      <td>4</td>\n",
              "      <td>1508200705</td>\n",
              "      <td>False</td>\n",
              "      <td>1</td>\n",
              "      <td>9</td>\n",
              "      <td>9</td>\n",
              "      <td>261.0</td>\n",
              "      <td>1.0</td>\n",
              "      <td>15.19</td>\n",
              "      <td>17.19</td>\n",
              "      <td>0</td>\n",
              "      <td>1</td>\n",
              "      <td>0</td>\n",
              "      <td>0</td>\n",
              "      <td>1</td>\n",
              "      <td>0</td>\n",
              "      <td>0</td>\n",
              "      <td>0</td>\n",
              "      <td>0</td>\n",
              "      <td>0</td>\n",
              "      <td>0</td>\n",
              "      <td>1</td>\n",
              "      <td>0</td>\n",
              "      <td>0</td>\n",
              "      <td>1</td>\n",
              "      <td>0</td>\n",
              "      <td>0</td>\n",
              "      <td>0</td>\n",
              "      <td>0</td>\n",
              "      <td>1</td>\n",
              "      <td>0</td>\n",
              "      <td>0</td>\n",
              "      <td>0</td>\n",
              "      <td>0</td>\n",
              "      <td>0</td>\n",
              "      <td>0</td>\n",
              "      <td>0</td>\n",
              "      <td>1</td>\n",
              "      <td>0</td>\n",
              "      <td>0</td>\n",
              "      <td>0</td>\n",
              "      <td>0</td>\n",
              "      <td>0</td>\n",
              "      <td>0</td>\n",
              "    </tr>\n",
              "    <tr>\n",
              "      <th>550</th>\n",
              "      <td>3700714855829972615</td>\n",
              "      <td>1508192636</td>\n",
              "      <td>11</td>\n",
              "      <td>1508192636</td>\n",
              "      <td>False</td>\n",
              "      <td>1</td>\n",
              "      <td>15</td>\n",
              "      <td>12</td>\n",
              "      <td>285.0</td>\n",
              "      <td>1.0</td>\n",
              "      <td>8.00</td>\n",
              "      <td>13.00</td>\n",
              "      <td>0</td>\n",
              "      <td>0</td>\n",
              "      <td>0</td>\n",
              "      <td>1</td>\n",
              "      <td>1</td>\n",
              "      <td>0</td>\n",
              "      <td>0</td>\n",
              "      <td>0</td>\n",
              "      <td>0</td>\n",
              "      <td>0</td>\n",
              "      <td>0</td>\n",
              "      <td>0</td>\n",
              "      <td>0</td>\n",
              "      <td>1</td>\n",
              "      <td>1</td>\n",
              "      <td>0</td>\n",
              "      <td>0</td>\n",
              "      <td>1</td>\n",
              "      <td>0</td>\n",
              "      <td>0</td>\n",
              "      <td>1</td>\n",
              "      <td>0</td>\n",
              "      <td>0</td>\n",
              "      <td>0</td>\n",
              "      <td>0</td>\n",
              "      <td>0</td>\n",
              "      <td>0</td>\n",
              "      <td>0</td>\n",
              "      <td>0</td>\n",
              "      <td>0</td>\n",
              "      <td>0</td>\n",
              "      <td>0</td>\n",
              "      <td>0</td>\n",
              "      <td>0</td>\n",
              "    </tr>\n",
              "  </tbody>\n",
              "</table>\n",
              "</div>"
            ],
            "text/plain": [
              "           fullVisitorId     visitId  visitNumber  ...  Texas  Virginia Washington\n",
              "433  9549826748224805897  1508200705            4  ...      0         0          0\n",
              "550  3700714855829972615  1508192636           11  ...      0         0          0\n",
              "\n",
              "[2 rows x 46 columns]"
            ]
          },
          "metadata": {
            "tags": []
          },
          "execution_count": 72
        }
      ]
    },
    {
      "cell_type": "code",
      "metadata": {
        "id": "J2anPdCrDg9P",
        "colab_type": "code",
        "colab": {
          "base_uri": "https://localhost:8080/",
          "height": 799
        },
        "outputId": "b8939d6c-9e3d-4b30-cd19-7bba421afe24"
      },
      "source": [
        "\n",
        "df_customer_train.columns.to_list()"
      ],
      "execution_count": 73,
      "outputs": [
        {
          "output_type": "execute_result",
          "data": {
            "text/plain": [
              "['fullVisitorId',\n",
              " 'visitId',\n",
              " 'visitNumber',\n",
              " 'visitStartTime',\n",
              " 'device_isMobile',\n",
              " 'totals_visits',\n",
              " 'totals_hits',\n",
              " 'totals_pageviews',\n",
              " 'totals_timeOnSite',\n",
              " 'totals_transactions',\n",
              " 'totals_transactionRevenue',\n",
              " 'totals_totalTransactionRevenue',\n",
              " 'Direct',\n",
              " 'Organic Search',\n",
              " 'Other_chan',\n",
              " 'Referral',\n",
              " 'Chrome',\n",
              " 'Firefox',\n",
              " 'Internet Explorer',\n",
              " 'Other',\n",
              " 'Safari',\n",
              " 'Chrome OS',\n",
              " 'Linux',\n",
              " 'Macintosh',\n",
              " 'Other',\n",
              " 'Windows',\n",
              " 'desktop',\n",
              " 'mobile',\n",
              " 'tablet',\n",
              " '(direct)',\n",
              " 'Other',\n",
              " 'google',\n",
              " 'California',\n",
              " 'Colorado',\n",
              " 'District of Columbia',\n",
              " 'Georgia',\n",
              " 'Illinois',\n",
              " 'Massachusetts',\n",
              " 'Michigan',\n",
              " 'New York',\n",
              " 'Ontario',\n",
              " 'Other',\n",
              " 'Pennsylvania',\n",
              " 'Texas',\n",
              " 'Virginia',\n",
              " 'Washington']"
            ]
          },
          "metadata": {
            "tags": []
          },
          "execution_count": 73
        }
      ]
    },
    {
      "cell_type": "code",
      "metadata": {
        "id": "8H20hYepH3o1",
        "colab_type": "code",
        "colab": {}
      },
      "source": [
        "Y = df_customer_train[\"totals_totalTransactionRevenue\"].values\n",
        "X = df_customer_train[[\"visitNumber\",\"device_isMobile\",\"totals_visits\",\"totals_hits\",\"totals_pageviews\",\"totals_timeOnSite\",\"totals_transactions\",\\\n",
        "              \"totals_transactionRevenue\",\"Direct\", 'Organic Search',  'Referral',  'Chrome',  'Firefox',  'Internet Explorer',\\\n",
        "                 'Safari',  'Chrome OS',  'Linux',  'Macintosh',  'Windows',  'desktop',  'mobile',  'tablet',  '(direct)', \\\n",
        "               'google',  'California',  'Colorado',  'District of Columbia','Georgia',  'Illinois',  'Massachusetts',  'Michigan',  'New York',  'Ontario',\\\n",
        "                'Pennsylvania',  'Texas',  'Virginia',  'Washington']].values"
      ],
      "execution_count": 75,
      "outputs": []
    },
    {
      "cell_type": "code",
      "metadata": {
        "id": "P93qkamhCVys",
        "colab_type": "code",
        "colab": {}
      },
      "source": [
        "def split_data(X,Y):\n",
        "    \"\"\"Split data and return train, test and indices for further analysis\"\"\"\n",
        "    X_train, X_test,Y_train, Y_test = train_test_split(X, Y, test_size = 0.2, random_state=42)\n",
        "    return X_train, X_test, Y_train, Y_test"
      ],
      "execution_count": 76,
      "outputs": []
    },
    {
      "cell_type": "code",
      "metadata": {
        "id": "JX1inDQECY50",
        "colab_type": "code",
        "colab": {}
      },
      "source": [
        "X_train, X_test, Y_train, Y_test = split_data(X, Y)"
      ],
      "execution_count": 77,
      "outputs": []
    },
    {
      "cell_type": "code",
      "metadata": {
        "id": "DTCYhznCCbeY",
        "colab_type": "code",
        "colab": {
          "base_uri": "https://localhost:8080/",
          "height": 136
        },
        "outputId": "d2cd2668-a595-4cc1-c2b4-a0f67ee7cbb2"
      },
      "source": [
        "# Training\n",
        "rf = RandomForestRegressor(n_estimators=50, )\n",
        "rf.fit(X_train,Y_train)"
      ],
      "execution_count": 78,
      "outputs": [
        {
          "output_type": "execute_result",
          "data": {
            "text/plain": [
              "RandomForestRegressor(bootstrap=True, ccp_alpha=0.0, criterion='mse',\n",
              "                      max_depth=None, max_features='auto', max_leaf_nodes=None,\n",
              "                      max_samples=None, min_impurity_decrease=0.0,\n",
              "                      min_impurity_split=None, min_samples_leaf=1,\n",
              "                      min_samples_split=2, min_weight_fraction_leaf=0.0,\n",
              "                      n_estimators=50, n_jobs=None, oob_score=False,\n",
              "                      random_state=None, verbose=0, warm_start=False)"
            ]
          },
          "metadata": {
            "tags": []
          },
          "execution_count": 78
        }
      ]
    },
    {
      "cell_type": "code",
      "metadata": {
        "id": "YxElxdYiHlvD",
        "colab_type": "code",
        "colab": {}
      },
      "source": [
        "# Prediction \n",
        "Y_pred = rf.predict(X_test) # make sure that ypu test with the test set"
      ],
      "execution_count": 79,
      "outputs": []
    },
    {
      "cell_type": "code",
      "metadata": {
        "id": "u35VGtdiCnxI",
        "colab_type": "code",
        "colab": {
          "base_uri": "https://localhost:8080/",
          "height": 34
        },
        "outputId": "3ee8e796-81c9-46a1-aee6-87f661747dac"
      },
      "source": [
        "# score function returns the mean accuracy on the given test data and labels\n",
        "rf.score(X_test, Y_test)"
      ],
      "execution_count": 80,
      "outputs": [
        {
          "output_type": "execute_result",
          "data": {
            "text/plain": [
              "0.7245492838491905"
            ]
          },
          "metadata": {
            "tags": []
          },
          "execution_count": 80
        }
      ]
    },
    {
      "cell_type": "code",
      "metadata": {
        "id": "IyulQOp4Cpdo",
        "colab_type": "code",
        "colab": {
          "base_uri": "https://localhost:8080/",
          "height": 282
        },
        "outputId": "846faadf-389a-42f1-b0de-48c300f877df"
      },
      "source": [
        "sns.scatterplot(Y_pred, Y_test)"
      ],
      "execution_count": 81,
      "outputs": [
        {
          "output_type": "execute_result",
          "data": {
            "text/plain": [
              "<matplotlib.axes._subplots.AxesSubplot at 0x7fb91aede518>"
            ]
          },
          "metadata": {
            "tags": []
          },
          "execution_count": 81
        },
        {
          "output_type": "display_data",
          "data": {
            "image/png": "[encoded data removed]",
            "text/plain": [
              "<Figure size 432x288 with 1 Axes>"
            ]
          },
          "metadata": {
            "tags": [],
            "needs_background": "light"
          }
        }
      ]
    },
    {
      "cell_type": "code",
      "metadata": {
        "id": "y-Z1gA59HZfW",
        "colab_type": "code",
        "colab": {}
      },
      "source": [
        ""
      ],
      "execution_count": 81,
      "outputs": []
    }
  ]
}